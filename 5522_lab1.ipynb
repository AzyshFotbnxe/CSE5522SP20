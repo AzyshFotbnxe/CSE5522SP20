{
  "nbformat": 4,
  "nbformat_minor": 0,
  "metadata": {
    "colab": {
      "name": "5522_lab1.ipynb",
      "provenance": [],
      "collapsed_sections": [],
      "authorship_tag": "ABX9TyPsr6nbLW8t4yCvcKy26BVy",
      "include_colab_link": true
    },
    "kernelspec": {
      "name": "python3",
      "display_name": "Python 3"
    },
    "accelerator": "GPU"
  },
  "cells": [
    {
      "cell_type": "markdown",
      "metadata": {
        "id": "view-in-github",
        "colab_type": "text"
      },
      "source": [
        "<a href=\"https://colab.research.google.com/github/sanosenx86/si-s-e-fivefivetwotwo/blob/lab1/5522_lab1.ipynb\" target=\"_parent\"><img src=\"https://colab.research.google.com/assets/colab-badge.svg\" alt=\"Open In Colab\"/></a>"
      ]
    },
    {
      "cell_type": "markdown",
      "metadata": {
        "id": "h2JnmvvEa-sG",
        "colab_type": "text"
      },
      "source": [
        "#Part 1: Linear Regression for Gene Expression Prediction\n"
      ]
    },
    {
      "cell_type": "code",
      "metadata": {
        "id": "YAK7ZdXiNz6r",
        "colab_type": "code",
        "colab": {}
      },
      "source": [
        "import matplotlib.pyplot as plt\n",
        "import pandas as pd\n",
        "import numpy as np\n",
        "\n",
        "from sklearn.model_selection import train_test_split\n",
        "from sklearn.metrics import mean_squared_error, r2_score\n",
        "from sklearn.linear_model import LinearRegression"
      ],
      "execution_count": 0,
      "outputs": []
    },
    {
      "cell_type": "code",
      "metadata": {
        "colab_type": "code",
        "id": "4Dh6H4wdW1JC",
        "colab": {}
      },
      "source": [
        "miR_URL='https://raw.githubusercontent.com/efosler/cse5522data/master/miRScore-x.csv'\n",
        "miR_df=pd.read_csv(miR_URL, index_col=0)\n",
        "# remove row names from the frist column, rows=samples, cols=miR features\n",
        "#miR = np.array(miR_df)\n",
        "\n",
        "mRNA_well_URL='https://raw.githubusercontent.com/efosler/cse5522data/master/mRNA-y-well-explained.csv'\n",
        "mRNA_well_df=pd.read_csv(mRNA_well_URL, index_col=0).T\n",
        "# remove label column, transpose with rows=samples, cols=mRNA\n",
        "#mRNA_well = np.transpose(np.array(mRNA_well_df))\n",
        "\n",
        "mRNA_poor_URL='https://raw.githubusercontent.com/efosler/cse5522data/master/mRNA-y-poor-explained.csv'\n",
        "mRNA_poor_df=pd.read_csv(mRNA_poor_URL, index_col=0).T\n",
        "# remove label column, transpose with rows=samples, cols=mRNA\n",
        "#mRNA_poor = np.transpose(np.array(mRNA_poor_df))\n",
        "\n",
        "tissue_type_URL='https://github.com/efosler/cse5522data/raw/master/cancerType-x-Categorical.csv'\n",
        "tissue_type_df=pd.read_csv(tissue_type_URL, index_col=0)\n",
        "#tissue_type=np.array(tissue_type_df)\n",
        "\n",
        "#print(miR_df.shape, mRNA_well_df.shape, mRNA_poor_df.shape, tissue_type_df.shape)"
      ],
      "execution_count": 0,
      "outputs": []
    },
    {
      "cell_type": "code",
      "metadata": {
        "id": "adrrE2y1QGCV",
        "colab_type": "code",
        "colab": {}
      },
      "source": [
        "def fit_one(features, target):\n",
        "  f_train, f_test, t_train, t_test = train_test_split(features,\n",
        "                                                      target,\n",
        "                                                      test_size=0.2)\n",
        "  model = LinearRegression().fit(f_train, t_train)\n",
        "  train_pred = model.predict(f_train)\n",
        "  test_pred = model.predict(f_test)\n",
        "  return {\n",
        "      \"r2_train\": r2_score(t_train, train_pred),\n",
        "      \"r2_test\": r2_score(t_test, test_pred),\n",
        "      \"rmse_test\": np.sqrt(mean_squared_error(t_test, test_pred))\n",
        "  }\n",
        "\n",
        "def fit_ten(features, target):\n",
        "  r2_trains=[]\n",
        "  r2_tests=[]\n",
        "  rmse_tests=[]\n",
        "  for i in range(10):\n",
        "    performance=fit_one(features, target)\n",
        "    r2_trains.append(performance[\"r2_train\"])\n",
        "    r2_tests.append(performance[\"r2_test\"])\n",
        "    rmse_tests.append(performance[\"rmse_test\"])\n",
        "  return{\n",
        "      \"rmse_avg\": np.average(rmse_tests),\n",
        "      \"rmse_std\": np.std(rmse_tests),\n",
        "      \"r2_avg\": np.average(r2_tests),\n",
        "      \"r2_std\": np.std(r2_tests),\n",
        "      \"r2_train\": np.average(r2_trains)\n",
        "  }\n",
        "\n",
        "def fit_all(features, targets):\n",
        "  target_stats = dict()\n",
        "  for target in targets:\n",
        "    target_stats[target] = fit_ten(features, targets[target])\n",
        "  return target_stats"
      ],
      "execution_count": 0,
      "outputs": []
    },
    {
      "cell_type": "code",
      "metadata": {
        "id": "BjowPbo6TfFT",
        "colab_type": "code",
        "colab": {}
      },
      "source": [
        "mRNA_well_stats = fit_all(miR_df, mRNA_well_df)\n",
        "mRNA_poor_stats = fit_all(miR_df, mRNA_poor_df)"
      ],
      "execution_count": 0,
      "outputs": []
    },
    {
      "cell_type": "markdown",
      "metadata": {
        "id": "RnWt6gcpa6bF",
        "colab_type": "text"
      },
      "source": [
        "**Question 1.1:** The mean and standard deviation for each of the mRNA predictors for both the R2 and RMSE metrics."
      ]
    },
    {
      "cell_type": "code",
      "metadata": {
        "id": "SeojdzY2a0wN",
        "colab_type": "code",
        "outputId": "d29f6522-ab53-4a32-9959-377bd6f5838e",
        "colab": {
          "base_uri": "https://localhost:8080/",
          "height": 941
        }
      },
      "source": [
        "for i in mRNA_well_stats:\n",
        "  print(\"for \" + i + \":\", mRNA_well_stats[i])\n",
        "for i in mRNA_poor_stats:\n",
        "  print(\"for \" + i + \":\", mRNA_poor_stats[i])"
      ],
      "execution_count": 0,
      "outputs": [
        {
          "output_type": "stream",
          "text": [
            "for SNORD88B: {'rmse_avg': 0.0, 'rmse_std': 0.0, 'r2_avg': 1.0, 'r2_std': 0.0, 'r2_train': 1.0}\n",
            "for GRHL2: {'rmse_avg': 1.057079555961155, 'rmse_std': 0.020013948871234522, 'r2_avg': 0.8884796600398701, 'r2_std': 0.005593869429823356, 'r2_train': 0.8913289111561273}\n",
            "for C1orf172: {'rmse_avg': 0.758604231701353, 'rmse_std': 0.014584467701107787, 'r2_avg': 0.8772155476880034, 'r2_std': 0.004793534054513032, 'r2_train': 0.87776027967877}\n",
            "for RAB25: {'rmse_avg': 1.2250777466471254, 'rmse_std': 0.022162626792812008, 'r2_avg': 0.8721807046614094, 'r2_std': 0.004675844977768142, 'r2_train': 0.8726290795238789}\n",
            "for ANKS4B: {'rmse_avg': 0.8178092547493229, 'rmse_std': 0.02943518632066932, 'r2_avg': 0.8661434152706187, 'r2_std': 0.009048802177064332, 'r2_train': 0.8645199857235921}\n",
            "for HNF4A: {'rmse_avg': 1.1792116156724086, 'rmse_std': 0.026308183324928833, 'r2_avg': 0.8640586522516914, 'r2_std': 0.005348088836567844, 'r2_train': 0.8636039478110469}\n",
            "for AP1M2: {'rmse_avg': 1.1603236090717515, 'rmse_std': 0.027990569029170062, 'r2_avg': 0.8544585896155039, 'r2_std': 0.006075661054215084, 'r2_train': 0.846992658804999}\n",
            "for PKP3: {'rmse_avg': 1.2783239010435383, 'rmse_std': 0.023296645248368563, 'r2_avg': 0.8409333094497644, 'r2_std': 0.004287890172859593, 'r2_train': 0.8445503716133077}\n",
            "for STMN4: {'rmse_avg': 0.7878387096039445, 'rmse_std': 0.009779900408816699, 'r2_avg': 0.8357525270823359, 'r2_std': 0.010266374536559255, 'r2_train': 0.837990507668278}\n",
            "for ESRP1: {'rmse_avg': 1.2661799923512298, 'rmse_std': 0.025127114824945694, 'r2_avg': 0.8391440444793622, 'r2_std': 0.00710570548727008, 'r2_train': 0.837160915482802}\n",
            "for CDHR5: {'rmse_avg': 1.3184698128603436, 'rmse_std': 0.0254129203679114, 'r2_avg': 0.8254776184753105, 'r2_std': 0.009090565027192899, 'r2_train': 0.8295138704127757}\n",
            "for MEG3: {'rmse_avg': 1.0289175476694408, 'rmse_std': 0.015652965531425703, 'r2_avg': 0.8270623581172363, 'r2_std': 0.007425281429732485, 'r2_train': 0.8288714399104601}\n",
            "for PRSS8: {'rmse_avg': 1.403858589464916, 'rmse_std': 0.01700715950215681, 'r2_avg': 0.8218626176627055, 'r2_std': 0.006624175000029112, 'r2_train': 0.8266132779801041}\n",
            "for OVOL2: {'rmse_avg': 0.8636995712577891, 'rmse_std': 0.0172465320897862, 'r2_avg': 0.8184384541311417, 'r2_std': 0.008392178115062703, 'r2_train': 0.821655913181137}\n",
            "for SPINT1: {'rmse_avg': 1.1599462776183393, 'rmse_std': 0.01102520058951985, 'r2_avg': 0.810513352148454, 'r2_std': 0.0036862112250341324, 'r2_train': 0.822018903475052}\n",
            "for TM4SF5: {'rmse_avg': 1.0263837973766239, 'rmse_std': 0.030761968136637917, 'r2_avg': 0.8140350772653676, 'r2_std': 0.007276050120294582, 'r2_train': 0.8196906708380534}\n",
            "for ELAVL3: {'rmse_avg': 0.8655602705527816, 'rmse_std': 0.027206184112061355, 'r2_avg': 0.8207993835050148, 'r2_std': 0.01155180979667793, 'r2_train': 0.8162842239005045}\n",
            "for FAM123A: {'rmse_avg': 0.6938610559012927, 'rmse_std': 0.017130189893152868, 'r2_avg': 0.8161993629452402, 'r2_std': 0.020826163420794998, 'r2_train': 0.8141947750708104}\n",
            "for ZDHHC22: {'rmse_avg': 0.8372959734734626, 'rmse_std': 0.021784631027867363, 'r2_avg': 0.8065172417297275, 'r2_std': 0.019419909820654738, 'r2_train': 0.815668823514273}\n",
            "for MMD2: {'rmse_avg': 0.5951117085546709, 'rmse_std': 0.023885982958587522, 'r2_avg': 0.818649138419923, 'r2_std': 0.015655774581876045, 'r2_train': 0.812837684195802}\n",
            "for SH2D3A: {'rmse_avg': 0.8843589228795251, 'rmse_std': 0.014536562791369107, 'r2_avg': 0.8123735041832386, 'r2_std': 0.006118163313622521, 'r2_train': 0.8143163566127095}\n",
            "for C21orf131: {'rmse_avg': 0.46471457919329556, 'rmse_std': 0.016427303306724553, 'r2_avg': 0.8123587851504375, 'r2_std': 0.015541136744723884, 'r2_train': 0.8141241854389062}\n",
            "for NCAN: {'rmse_avg': 1.0736928601653566, 'rmse_std': 0.030093605725012792, 'r2_avg': 0.8121184839250308, 'r2_std': 0.021175098080441088, 'r2_train': 0.8134829746531163}\n",
            "for CRB3: {'rmse_avg': 0.9159299737273774, 'rmse_std': 0.017282969497272427, 'r2_avg': 0.8105676903006556, 'r2_std': 0.008241991134936892, 'r2_train': 0.8142021862524043}\n",
            "for CLDN4: {'rmse_avg': 1.4982664283743015, 'rmse_std': 0.020931339712609593, 'r2_avg': 0.8138438223188498, 'r2_std': 0.005555959500867462, 'r2_train': 0.8129515374188789}\n",
            "for CACNG7: {'rmse_avg': 0.7766652701907609, 'rmse_std': 0.02453388671044934, 'r2_avg': 0.8130708509075312, 'r2_std': 0.010205429519591379, 'r2_train': 0.8102148754182545}\n",
            "for C1orf210: {'rmse_avg': 0.9458807052462804, 'rmse_std': 0.014535458927164902, 'r2_avg': 0.8043653768663969, 'r2_std': 0.006355865624855267, 'r2_train': 0.8123919743694472}\n",
            "for KCNJ9: {'rmse_avg': 0.600905782826197, 'rmse_std': 0.01836945009791028, 'r2_avg': 0.8125502564962253, 'r2_std': 0.012311926270824686, 'r2_train': 0.8098197436069366}\n",
            "for CLDN7: {'rmse_avg': 1.2573170846044752, 'rmse_std': 0.03165009651952998, 'r2_avg': 0.8065540225317488, 'r2_std': 0.009373045878318675, 'r2_train': 0.8104082765836994}\n",
            "for ATCAY: {'rmse_avg': 1.0758285202324047, 'rmse_std': 0.022196501951011402, 'r2_avg': 0.8090272902286172, 'r2_std': 0.010459855453026488, 'r2_train': 0.8087274164927679}\n",
            "for C2orf80: {'rmse_avg': 0.46042340975782164, 'rmse_std': 0.014580207405073086, 'r2_avg': 0.8110946900483267, 'r2_std': 0.010063523117318814, 'r2_train': 0.8071325500541464}\n",
            "for ATP6V1G2: {'rmse_avg': 0.830511316411792, 'rmse_std': 0.01638906048279016, 'r2_avg': 0.7998447991737203, 'r2_std': 0.012193239167980126, 'r2_train': 0.8067617482058799}\n",
            "for ST14: {'rmse_avg': 1.1215495844408414, 'rmse_std': 0.019702181061101064, 'r2_avg': 0.8021137629101392, 'r2_std': 0.008811647970154645, 'r2_train': 0.805089707519391}\n",
            "for SHISA7: {'rmse_avg': 0.723756850631081, 'rmse_std': 0.024628387210369834, 'r2_avg': 0.7878224241717222, 'r2_std': 0.028290003885625352, 'r2_train': 0.8077123305225345}\n",
            "for ELF3: {'rmse_avg': 1.5211967853467185, 'rmse_std': 0.01379795746299781, 'r2_avg': 0.8001755739712871, 'r2_std': 0.006523029678575892, 'r2_train': 0.8020506907704531}\n",
            "for NOBOX: {'rmse_avg': 0.34725135414036695, 'rmse_std': 0.03169111914085589, 'r2_avg': 0.04603917718643957, 'r2_std': 0.012020941186485709, 'r2_train': 0.049850460055218704}\n",
            "for SCGB1D4: {'rmse_avg': 0.4030275838708679, 'rmse_std': 0.041463765029704884, 'r2_avg': 0.0452927295330942, 'r2_std': 0.015457707574262096, 'r2_train': 0.05020295837534285}\n",
            "for RPL9: {'rmse_avg': 1.7569213143632658, 'rmse_std': 0.015350132269655115, 'r2_avg': 0.04529619866041742, 'r2_std': 0.006801249693706274, 'r2_train': 0.05012868403656595}\n",
            "for SPATA8: {'rmse_avg': 0.20437620935987738, 'rmse_std': 0.02723784822941031, 'r2_avg': 0.05027843243234981, 'r2_std': 0.027142087926678566, 'r2_train': 0.04801218815861889}\n",
            "for C2orf78: {'rmse_avg': 0.16035450272670287, 'rmse_std': 0.028345777595692255, 'r2_avg': 0.0532167743799057, 'r2_std': 0.02393424346403978, 'r2_train': 0.050227521928935814}\n",
            "for FAM138B: {'rmse_avg': 0.06612249624258942, 'rmse_std': 0.0063225189032901615, 'r2_avg': 0.046996035142607306, 'r2_std': 0.014135439647248041, 'r2_train': 0.05000456224375301}\n",
            "for LCE3C: {'rmse_avg': 0.30394418485373176, 'rmse_std': 0.04533873849927456, 'r2_avg': 0.041780019365521816, 'r2_std': 0.014213755360627677, 'r2_train': 0.05003682862060712}\n",
            "for POU5F2: {'rmse_avg': 0.1330168720420835, 'rmse_std': 0.014337601855375977, 'r2_avg': 0.04037689951916893, 'r2_std': 0.01231575310391532, 'r2_train': 0.0514142936821258}\n",
            "for OR2D3: {'rmse_avg': 0.04090667221827552, 'rmse_std': 0.008395380176300399, 'r2_avg': 0.05722143198942884, 'r2_std': 0.0179157972511573, 'r2_train': 0.048278954534140425}\n",
            "for PABPC1P2: {'rmse_avg': 0.12979534162690237, 'rmse_std': 0.014006199771456024, 'r2_avg': 0.039735862845249034, 'r2_std': 0.004880606983036388, 'r2_train': 0.05116473524034876}\n",
            "for CATSPER4: {'rmse_avg': 0.04784068336912903, 'rmse_std': 0.004373599680519572, 'r2_avg': 0.04695807946912113, 'r2_std': 0.013603271292576208, 'r2_train': 0.04975798979601844}\n",
            "for FTHL17: {'rmse_avg': 0.5698016316085927, 'rmse_std': 0.04310821342406861, 'r2_avg': 0.04402243827019779, 'r2_std': 0.014780518642891729, 'r2_train': 0.050293373102485196}\n",
            "for OR5K1: {'rmse_avg': 0.03979940204113379, 'rmse_std': 0.0022468963375375972, 'r2_avg': 0.04646224678621001, 'r2_std': 0.01412133713563623, 'r2_train': 0.0494625186963502}\n",
            "for SNORA3: {'rmse_avg': 0.058474774132613316, 'rmse_std': 0.02107262075180651, 'r2_avg': 0.024595620228509262, 'r2_std': 0.02978814863360441, 'r2_train': 0.0542450290420298}\n",
            "for IL13: {'rmse_avg': 0.2668306080067463, 'rmse_std': 0.022444414453856677, 'r2_avg': 0.04221885776566888, 'r2_std': 0.005374250741511459, 'r2_train': 0.05079309209356845}\n",
            "for C10orf122: {'rmse_avg': 0.14337270952527004, 'rmse_std': 0.01938860621276187, 'r2_avg': 0.039267213092768, 'r2_std': 0.010837920789227483, 'r2_train': 0.05135758713304991}\n",
            "for SULT1C3: {'rmse_avg': 0.4265626788088587, 'rmse_std': 0.06562621405647474, 'r2_avg': 0.043450910908980934, 'r2_std': 0.012336857381566153, 'r2_train': 0.05081407620389652}\n",
            "for KRT38: {'rmse_avg': 0.3898271182793499, 'rmse_std': 0.07660942091392685, 'r2_avg': 0.042416832307692755, 'r2_std': 0.012615274506325588, 'r2_train': 0.05105996678631709}\n",
            "for TMPRSS12: {'rmse_avg': 0.15541219039812554, 'rmse_std': 0.016198109990912413, 'r2_avg': 0.04413952764856939, 'r2_std': 0.009710780554358034, 'r2_train': 0.04978173028986925}\n",
            "for C4orf11: {'rmse_avg': 0.05124888548518257, 'rmse_std': 0.014345101091961288, 'r2_avg': 0.04472705269558459, 'r2_std': 0.00944830883615505, 'r2_train': 0.051581324692959486}\n"
          ],
          "name": "stdout"
        }
      ]
    },
    {
      "cell_type": "markdown",
      "metadata": {
        "id": "PAEsEU6IcSRm",
        "colab_type": "text"
      },
      "source": [
        "**Question 1.2:** Visualize and compare the performance of the well expressed gene set to the poorly expressed gene set using R2.  Draw histograms of the R2s for both sets on the same plot; one histogram comparison should be done for train and one for test. \n",
        "\n",
        "Describe the differences you see across the well and poorly expressed gene sets.\n"
      ]
    },
    {
      "cell_type": "code",
      "metadata": {
        "id": "CzW2J5jOcXb9",
        "colab_type": "code",
        "outputId": "5f53033f-298a-43bc-d183-91a19e840015",
        "colab": {
          "base_uri": "https://localhost:8080/",
          "height": 499
        }
      },
      "source": [
        "well_df = pd.DataFrame.from_dict(mRNA_well_stats).T\n",
        "poor_df = pd.DataFrame.from_dict(mRNA_poor_stats).T\n",
        "\n",
        "plt.figure(figsize=(24,8))\n",
        "plt.subplot(121)\n",
        "plt.hist([well_df[\"r2_avg\"], poor_df[\"r2_avg\"]], bins=80, range=[0.0, 1.0])\n",
        "plt.title(\"Test\")\n",
        "plt.legend([\"Well explained test\", \"Poor explained test\"])\n",
        "plt.subplot(122)\n",
        "plt.hist([well_df[\"r2_train\"], poor_df[\"r2_train\"]], bins=80, range=[0.0, 1.0])\n",
        "plt.title(\"Train\")\n",
        "plt.legend([\"Well explained train\", \"Poor explained train\"])\n",
        "plt.show()"
      ],
      "execution_count": 0,
      "outputs": [
        {
          "output_type": "display_data",
          "data": {
            "image/png": "[encoded data removed]",
            "text/plain": [
              "<Figure size 1728x576 with 2 Axes>"
            ]
          },
          "metadata": {
            "tags": []
          }
        }
      ]
    },
    {
      "cell_type": "markdown",
      "metadata": {
        "id": "7QVUkl8Ueq6M",
        "colab_type": "text"
      },
      "source": [
        "The r2 for well-explained RNA is much higher than poor-explained RNA on both train and test sets."
      ]
    },
    {
      "cell_type": "markdown",
      "metadata": {
        "id": "FkfsdRbhlWK-",
        "colab_type": "text"
      },
      "source": [
        "**Question 1.3:** In this part, we want to add a categorical feature as the 22nd predictor. Tissue type is an important factor in explaining the gene expression profile. Our samples come from 32 tissue types which are provided to you in a separate file. Use dummy variable coding to include the tissue type in your regression.  "
      ]
    },
    {
      "cell_type": "code",
      "metadata": {
        "id": "TeFZ7ATvlVp2",
        "colab_type": "code",
        "colab": {}
      },
      "source": [
        "dummies=pd.get_dummies(tissue_type_df)\n",
        "dummies=dummies.drop(dummies.columns[0], axis=1)\n",
        "miR_cat=pd.concat([miR_df, dummies], axis=1)\n",
        "mRNA_cat_well_stats = fit_all(miR_cat, mRNA_well_df)\n",
        "mRNA_cat_poor_stats = fit_all(miR_cat, mRNA_poor_df)\n",
        "well_cat_df = pd.DataFrame.from_dict(mRNA_cat_well_stats).T\n",
        "poor_cat_df = pd.DataFrame.from_dict(mRNA_cat_poor_stats).T"
      ],
      "execution_count": 0,
      "outputs": []
    },
    {
      "cell_type": "code",
      "metadata": {
        "id": "EcRHEdo_upgo",
        "colab_type": "code",
        "outputId": "aa9e40a4-3aad-4ff7-beb5-6fb772c580ba",
        "colab": {
          "base_uri": "https://localhost:8080/",
          "height": 499
        }
      },
      "source": [
        "plt.figure(figsize=(24,8))\n",
        "plt.subplot(121)\n",
        "plt.hist([well_cat_df[\"r2_avg\"], poor_cat_df[\"r2_avg\"]], bins=80, range=[0.0, 1.0])\n",
        "plt.title(\"Test\")\n",
        "plt.legend([\"Well explained test\", \"Poor explained test\"])\n",
        "plt.subplot(122)\n",
        "plt.hist([well_cat_df[\"r2_train\"], poor_cat_df[\"r2_train\"]], bins=80, range=[0.0, 1.0])\n",
        "plt.title(\"Train\")\n",
        "plt.legend([\"Well explained train\", \"Poor explained train\"])\n",
        "plt.show()"
      ],
      "execution_count": 0,
      "outputs": [
        {
          "output_type": "display_data",
          "data": {
            "image/png": "[encoded data removed]",
            "text/plain": [
              "<Figure size 1728x576 with 2 Axes>"
            ]
          },
          "metadata": {
            "tags": []
          }
        }
      ]
    },
    {
      "cell_type": "markdown",
      "metadata": {
        "id": "GzVkNhsqu0UN",
        "colab_type": "text"
      },
      "source": [
        "Notice that the r2 for all models become less smooth, and for the poor-explained RNAs, their r2 increased. for well-explained RNAs, r2 also slightly increased, which means the extra categorical information improves the performance for both types of mRNAs."
      ]
    },
    {
      "cell_type": "markdown",
      "metadata": {
        "id": "zZnXyDIpv5TK",
        "colab_type": "text"
      },
      "source": [
        "#Part 2: Logistic Regression\n"
      ]
    },
    {
      "cell_type": "markdown",
      "metadata": {
        "id": "uh__LrDF--S2",
        "colab_type": "text"
      },
      "source": [
        "Import necessary packages."
      ]
    },
    {
      "cell_type": "code",
      "metadata": {
        "id": "y4Gw603Yvr4P",
        "colab_type": "code",
        "colab": {}
      },
      "source": [
        "import matplotlib.pyplot as plt\n",
        "import pandas as pd\n",
        "import numpy as np\n",
        "from sklearn.model_selection import train_test_split\n",
        "from sklearn.preprocessing import StandardScaler"
      ],
      "execution_count": 0,
      "outputs": []
    },
    {
      "cell_type": "markdown",
      "metadata": {
        "id": "qRMKtARx_B0E",
        "colab_type": "text"
      },
      "source": [
        "Initialize the data."
      ]
    },
    {
      "cell_type": "code",
      "metadata": {
        "id": "IPs8UZ-4whSH",
        "colab_type": "code",
        "outputId": "7847b121-e66e-4b01-a097-6b95ea2030e4",
        "colab": {
          "base_uri": "https://localhost:8080/",
          "height": 195
        }
      },
      "source": [
        "bask_url = 'https://raw.githubusercontent.com/efosler/cse5522data/master/height_vs_weight.csv'\n",
        "bask_df = pd.read_csv(bask_url)\n",
        "bask_df.head()"
      ],
      "execution_count": 0,
      "outputs": [
        {
          "output_type": "execute_result",
          "data": {
            "text/html": [
              "<div>\n",
              "<style scoped>\n",
              "    .dataframe tbody tr th:only-of-type {\n",
              "        vertical-align: middle;\n",
              "    }\n",
              "\n",
              "    .dataframe tbody tr th {\n",
              "        vertical-align: top;\n",
              "    }\n",
              "\n",
              "    .dataframe thead th {\n",
              "        text-align: right;\n",
              "    }\n",
              "</style>\n",
              "<table border=\"1\" class=\"dataframe\">\n",
              "  <thead>\n",
              "    <tr style=\"text-align: right;\">\n",
              "      <th></th>\n",
              "      <th>height</th>\n",
              "      <th>weight</th>\n",
              "      <th>female</th>\n",
              "      <th>basketball</th>\n",
              "    </tr>\n",
              "  </thead>\n",
              "  <tbody>\n",
              "    <tr>\n",
              "      <th>0</th>\n",
              "      <td>74.8</td>\n",
              "      <td>221.2</td>\n",
              "      <td>0</td>\n",
              "      <td>1</td>\n",
              "    </tr>\n",
              "    <tr>\n",
              "      <th>1</th>\n",
              "      <td>65.6</td>\n",
              "      <td>147.3</td>\n",
              "      <td>1</td>\n",
              "      <td>1</td>\n",
              "    </tr>\n",
              "    <tr>\n",
              "      <th>2</th>\n",
              "      <td>74.8</td>\n",
              "      <td>166.8</td>\n",
              "      <td>0</td>\n",
              "      <td>0</td>\n",
              "    </tr>\n",
              "    <tr>\n",
              "      <th>3</th>\n",
              "      <td>68.5</td>\n",
              "      <td>174.1</td>\n",
              "      <td>0</td>\n",
              "      <td>0</td>\n",
              "    </tr>\n",
              "    <tr>\n",
              "      <th>4</th>\n",
              "      <td>66.8</td>\n",
              "      <td>156.6</td>\n",
              "      <td>1</td>\n",
              "      <td>0</td>\n",
              "    </tr>\n",
              "  </tbody>\n",
              "</table>\n",
              "</div>"
            ],
            "text/plain": [
              "   height  weight  female  basketball\n",
              "0    74.8   221.2       0           1\n",
              "1    65.6   147.3       1           1\n",
              "2    74.8   166.8       0           0\n",
              "3    68.5   174.1       0           0\n",
              "4    66.8   156.6       1           0"
            ]
          },
          "metadata": {
            "tags": []
          },
          "execution_count": 10
        }
      ]
    },
    {
      "cell_type": "markdown",
      "metadata": {
        "id": "Vpt9AtB7_FhN",
        "colab_type": "text"
      },
      "source": [
        "Split the dataset to features and targets."
      ]
    },
    {
      "cell_type": "code",
      "metadata": {
        "id": "rF4eVHW0xd-e",
        "colab_type": "code",
        "colab": {}
      },
      "source": [
        "targets=np.array(bask_df['basketball'], dtype=float).reshape(-1,1)\n",
        "scaler=StandardScaler().fit(np.array(bask_df)[:,:2])\n",
        "features=np.concatenate((scaler.transform(np.array(bask_df)[:,:2]), np.array(bask_df)[:,2].reshape(-1,1)),axis=1)"
      ],
      "execution_count": 0,
      "outputs": []
    },
    {
      "cell_type": "markdown",
      "metadata": {
        "id": "BTvJy4dd_TNm",
        "colab_type": "text"
      },
      "source": [
        "Split dataset to train and test."
      ]
    },
    {
      "cell_type": "code",
      "metadata": {
        "id": "jx4BdsK6wokB",
        "colab_type": "code",
        "colab": {}
      },
      "source": [
        "f_train, f_test, t_train, t_test=train_test_split(features, targets, test_size=0.2)"
      ],
      "execution_count": 0,
      "outputs": []
    },
    {
      "cell_type": "markdown",
      "metadata": {
        "id": "292ZxUpDAByd",
        "colab_type": "text"
      },
      "source": [
        "Define tool functions."
      ]
    },
    {
      "cell_type": "code",
      "metadata": {
        "id": "sKPLNc7KvzAI",
        "colab_type": "code",
        "colab": {}
      },
      "source": [
        "sigmoid = lambda x: 1/(1+np.exp(-x))\n",
        "\n",
        "def predict_prob(weights, f):\n",
        "  return sigmoid(np.dot(f,weights[1:,:]) + weights[0])\n",
        "\n",
        "def predict(weights, f):\n",
        "  a1 = predict_prob(weights, f) - 0.5\n",
        "  a2 = np.sign(a1)\n",
        "  a3 = a2 + 1.0\n",
        "  a4 = a3 / 2.0\n",
        "  return a4\n",
        "\n",
        "def accuracy(pred, std):\n",
        "  return np.sum(np.equal(pred, std)) / float(len(std))"
      ],
      "execution_count": 0,
      "outputs": []
    },
    {
      "cell_type": "code",
      "metadata": {
        "id": "RHo2xDTwv1WS",
        "colab_type": "code",
        "colab": {}
      },
      "source": [
        "def computeGradient(weights,f,t):\n",
        "  pred = predict_prob(weights, f)\n",
        "  error = pred-t\n",
        "\n",
        "  f=np.concatenate((np.ones(f.shape[0]).reshape(-1,1), f), axis=1).T\n",
        "  gradient=np.dot(f, error)\n",
        "  return gradient"
      ],
      "execution_count": 0,
      "outputs": []
    },
    {
      "cell_type": "markdown",
      "metadata": {
        "id": "XktM8HdD-bU1",
        "colab_type": "text"
      },
      "source": [
        "Test the function."
      ]
    },
    {
      "cell_type": "code",
      "metadata": {
        "id": "dIC-aNAusS_s",
        "colab_type": "code",
        "outputId": "a056cbba-4dbe-4e4d-9a23-13881c6a2a1d",
        "colab": {
          "base_uri": "https://localhost:8080/",
          "height": 84
        }
      },
      "source": [
        "weights=np.array([0.0,0.0,0.0,0.0]).reshape(-1,1)\n",
        "gradient=computeGradient(weights, f_train, t_train)\n",
        "print(gradient, np.linalg.norm(gradient))"
      ],
      "execution_count": 0,
      "outputs": [
        {
          "output_type": "stream",
          "text": [
            "[[  4.        ]\n",
            " [-57.36611524]\n",
            " [-77.21040717]\n",
            " [  3.5       ]] 96.33570549579517\n"
          ],
          "name": "stdout"
        }
      ]
    },
    {
      "cell_type": "code",
      "metadata": {
        "id": "DZ3RdXJ7ARBk",
        "colab_type": "code",
        "colab": {}
      },
      "source": [
        "def logisticRegression(f, t, weights=None, learning_rate=1e-4, tolerance_avg_error=1e-5, max_iters=10000000, show_weight_iter=0):\n",
        "  \"\"\"\n",
        "  f = features\n",
        "  t = targets\n",
        "  \"\"\"\n",
        "  if(weights==None):\n",
        "    weights=np.zeros(f.shape[1]+1) #Extra 1 for the w0\n",
        "  weights = weights.reshape(-1,1)\n",
        "\n",
        "  for i in range(max_iters):\n",
        "    gradient=computeGradient(weights,f,t)\n",
        "    if(np.linalg.norm(gradient) < t.shape[0]*tolerance_avg_error): break\n",
        "    weights = weights - learning_rate * gradient\n",
        "    if(show_weight_iter>0 and i%show_weight_iter==0):\n",
        "      print(weights.reshape(1,-1))\n",
        "\n",
        "  return weights"
      ],
      "execution_count": 0,
      "outputs": []
    },
    {
      "cell_type": "code",
      "metadata": {
        "id": "6a2mos1gBIpz",
        "colab_type": "code",
        "colab": {}
      },
      "source": [
        "def computeAverageLoss(weights, features, targets):\n",
        "  pred = predict_prob(weights, features)\n",
        "  return np.mean(-1*np.log(t_test*pred+(1-t_test)*(1-pred)))"
      ],
      "execution_count": 0,
      "outputs": []
    },
    {
      "cell_type": "markdown",
      "metadata": {
        "id": "g1XBCCmsSthf",
        "colab_type": "text"
      },
      "source": [
        "**2.1** Only heights."
      ]
    },
    {
      "cell_type": "code",
      "metadata": {
        "id": "p2uch9UuGjDK",
        "colab_type": "code",
        "outputId": "35c3ad1c-6dd5-4ba1-f1d6-5a4b7349546c",
        "colab": {
          "base_uri": "https://localhost:8080/",
          "height": 34
        }
      },
      "source": [
        "weights = logisticRegression(f_train[:,:1], t_train, show_weight_iter=1000000)"
      ],
      "execution_count": 0,
      "outputs": [
        {
          "output_type": "stream",
          "text": [
            "[[-0.0004      0.00573661]]\n"
          ],
          "name": "stdout"
        }
      ]
    },
    {
      "cell_type": "markdown",
      "metadata": {
        "id": "baeKCDQtHHAP",
        "colab_type": "text"
      },
      "source": [
        "**2.1.1** Compute the average loss on the test set.\n"
      ]
    },
    {
      "cell_type": "code",
      "metadata": {
        "id": "YfIsh8IRSrlQ",
        "colab_type": "code",
        "outputId": "606b3f5a-3e7a-45d5-91de-10e032e5e9c5",
        "colab": {
          "base_uri": "https://localhost:8080/",
          "height": 34
        }
      },
      "source": [
        "print(\"Average loss is\", computeAverageLoss(weights, f_test[:,:1], t_test))"
      ],
      "execution_count": 0,
      "outputs": [
        {
          "output_type": "stream",
          "text": [
            "Average loss is 0.6247917335163091\n"
          ],
          "name": "stdout"
        }
      ]
    },
    {
      "cell_type": "markdown",
      "metadata": {
        "id": "0WqGwW-NIANH",
        "colab_type": "text"
      },
      "source": [
        "**2.1.2** Compute the accuracy on the test set by predicting someone is a basketball player if P(prediction) > 0.5."
      ]
    },
    {
      "cell_type": "code",
      "metadata": {
        "id": "5q1hE1JuIFYX",
        "colab_type": "code",
        "outputId": "35f88c7b-ce42-4817-bb6e-4518e999e670",
        "colab": {
          "base_uri": "https://localhost:8080/",
          "height": 34
        }
      },
      "source": [
        "print(\"Accuracy is\", accuracy(predict(weights, f_test[:,:1]),t_test))"
      ],
      "execution_count": 0,
      "outputs": [
        {
          "output_type": "stream",
          "text": [
            "Accuracy is 0.6625\n"
          ],
          "name": "stdout"
        }
      ]
    },
    {
      "cell_type": "markdown",
      "metadata": {
        "id": "kIxrvX97J-BI",
        "colab_type": "text"
      },
      "source": [
        "**2.1.3** Plot the training data as well as the learned logistic regression function."
      ]
    },
    {
      "cell_type": "code",
      "metadata": {
        "id": "IfM0ZDkNKCBu",
        "colab_type": "code",
        "outputId": "4bceb09e-c52c-418b-ce9b-e7eab5804db6",
        "colab": {
          "base_uri": "https://localhost:8080/",
          "height": 225
        }
      },
      "source": [
        "xs=np.arange(-3.0, 3.0, 0.01).reshape(-1,1)\n",
        "res=predict_prob(weights, xs)\n",
        "xs=scaler.scale_[0]*xs+scaler.mean_[0]\n",
        "plt.figure(figsize=(24,3))\n",
        "plt.xlabel(\"height\")\n",
        "plt.ylabel(\"prob_of_basketball\")\n",
        "plt.plot(f_train[:,:1]*scaler.scale_[0]+scaler.mean_[0], t_train, 'ro')\n",
        "plt.plot(xs, res, 'b')\n",
        "plt.show()"
      ],
      "execution_count": 0,
      "outputs": [
        {
          "output_type": "display_data",
          "data": {
            "image/png": "[encoded data removed]",
            "text/plain": [
              "<Figure size 1728x216 with 1 Axes>"
            ]
          },
          "metadata": {
            "tags": []
          }
        }
      ]
    },
    {
      "cell_type": "markdown",
      "metadata": {
        "id": "FmI65q4cPipK",
        "colab_type": "text"
      },
      "source": [
        "**2.2** Now train the model to be gender dependent by incorporating both the height and female features.  Evaluate on the same test set with average loss and accuracy.  Plot the logistic regression function across heights for male and female - do the learned functions make sense relative to one another?"
      ]
    },
    {
      "cell_type": "markdown",
      "metadata": {
        "id": "4e7iflBaQGs_",
        "colab_type": "text"
      },
      "source": [
        "**2.2.1** Train the model to be gender dependent by height and female."
      ]
    },
    {
      "cell_type": "code",
      "metadata": {
        "id": "a0Xtv0oRPzxR",
        "colab_type": "code",
        "outputId": "227e0be8-aa30-44f8-9bc7-7cb6ea93ec10",
        "colab": {
          "base_uri": "https://localhost:8080/",
          "height": 34
        }
      },
      "source": [
        "weights = logisticRegression(f_train[:,0::2], t_train, show_weight_iter=1000000)"
      ],
      "execution_count": 0,
      "outputs": [
        {
          "output_type": "stream",
          "text": [
            "[[-0.0004      0.00573661 -0.00035   ]]\n"
          ],
          "name": "stdout"
        }
      ]
    },
    {
      "cell_type": "markdown",
      "metadata": {
        "id": "mbOuK8XIQO2R",
        "colab_type": "text"
      },
      "source": [
        "**2.2.2** Evaluate average loss and accuracy.\n"
      ]
    },
    {
      "cell_type": "code",
      "metadata": {
        "id": "zDvitW1sQVhN",
        "colab_type": "code",
        "outputId": "1ec63a0c-3e40-46ac-c3ae-303ac75fa983",
        "colab": {
          "base_uri": "https://localhost:8080/",
          "height": 50
        }
      },
      "source": [
        "print(\"Average Loss is\", computeAverageLoss(weights, f_test[:,0::2], t_test))\n",
        "print(\"Accuracy is\", accuracy(predict(weights, f_test[:,0::2]), t_test))"
      ],
      "execution_count": 0,
      "outputs": [
        {
          "output_type": "stream",
          "text": [
            "Average Loss is 0.5867556604772307\n",
            "Accuracy is 0.7125\n"
          ],
          "name": "stdout"
        }
      ]
    },
    {
      "cell_type": "markdown",
      "metadata": {
        "id": "QzWm3X0zQtkK",
        "colab_type": "text"
      },
      "source": [
        "**2.2.3** Plot the logistic regression function across heights for male and female"
      ]
    },
    {
      "cell_type": "code",
      "metadata": {
        "colab_type": "code",
        "id": "pdt3sxxmRHo5",
        "outputId": "05a58827-2c13-4422-87d5-cb8f90ceeabc",
        "colab": {
          "base_uri": "https://localhost:8080/",
          "height": 551
        }
      },
      "source": [
        "xs=np.arange(-3.0, 3.0, 0.01).reshape(-1,1)\n",
        "xsm=np.concatenate((xs, np.zeros(len(xs)).reshape(-1,1)), axis=1)\n",
        "xsf=np.concatenate((xs, np.ones(len(xs)).reshape(-1,1)), axis=1)\n",
        "resm=predict_prob(weights, xsm)\n",
        "resf=predict_prob(weights, xsf)\n",
        "xs=scaler.scale_[0]*xs+scaler.mean_[0]\n",
        "\n",
        "of_train=np.concatenate((f_train[:,:1]*scaler.scale_[0]+scaler.mean_[0], f_train[:,-1:]), axis=1)\n",
        "plt.figure(figsize=(24,9))\n",
        "plt.xlabel(\"height\")\n",
        "plt.ylabel(\"prob_of_basketball\")\n",
        "plt.plot(of_train[f_train[:,2]==1,:][:,0], t_train[f_train[:,2]==1], 'ro', label=\"female\")\n",
        "plt.plot(xs, resf, 'r')\n",
        "plt.xlabel(\"height\")\n",
        "plt.ylabel(\"prob_of_basketball\")\n",
        "plt.plot(of_train[f_train[:,2]==0,:][:,0], t_train[f_train[:,2]==0], 'bo', label=\"male\")\n",
        "plt.plot(xs, resm, 'b')\n",
        "plt.legend()\n",
        "plt.show()"
      ],
      "execution_count": 0,
      "outputs": [
        {
          "output_type": "display_data",
          "data": {
            "image/png": "[encoded data removed]",
            "text/plain": [
              "<Figure size 1728x648 with 1 Axes>"
            ]
          },
          "metadata": {
            "tags": []
          }
        }
      ]
    },
    {
      "cell_type": "markdown",
      "metadata": {
        "id": "-ySMe557e55C",
        "colab_type": "text"
      },
      "source": [
        "I think the function makes sense for males, but not for females. For females, many point are on the left side of x when P(x) = 0.5, which means the function tends to categorize female as not basketball player. For males, the data are splitted better."
      ]
    },
    {
      "cell_type": "markdown",
      "metadata": {
        "id": "5u_YNHDtfXeL",
        "colab_type": "text"
      },
      "source": [
        "**2.3** Incorporate the weight feature (training (height, weight) and (height, weight, gender)). Evaluate on average loss and accuracy.  Does weight help as a feature?"
      ]
    },
    {
      "cell_type": "markdown",
      "metadata": {
        "id": "7LfGCGffhL3o",
        "colab_type": "text"
      },
      "source": [
        "**2.3.1** (height, weight)"
      ]
    },
    {
      "cell_type": "code",
      "metadata": {
        "id": "04MSJY4DfbbC",
        "colab_type": "code",
        "outputId": "9ee10f47-bc9e-45db-e56d-4f2d4b2f87dd",
        "colab": {
          "base_uri": "https://localhost:8080/",
          "height": 34
        }
      },
      "source": [
        "weights = logisticRegression(f_train[:,:2], t_train, show_weight_iter=1000000)"
      ],
      "execution_count": 0,
      "outputs": [
        {
          "output_type": "stream",
          "text": [
            "[[-0.0004      0.00573661  0.00772104]]\n"
          ],
          "name": "stdout"
        }
      ]
    },
    {
      "cell_type": "code",
      "metadata": {
        "id": "7zqyBPPbfhjC",
        "colab_type": "code",
        "outputId": "0ac8b0f5-55cb-440f-8438-5f8a17b4eee2",
        "colab": {
          "base_uri": "https://localhost:8080/",
          "height": 50
        }
      },
      "source": [
        "print(\"Average Loss is\", computeAverageLoss(weights, f_test[:,:2], t_test))\n",
        "print(\"Accuracy is\", accuracy(predict(weights, f_test[:,:2]), t_test))"
      ],
      "execution_count": 0,
      "outputs": [
        {
          "output_type": "stream",
          "text": [
            "Average Loss is 0.5224391779624284\n",
            "Accuracy is 0.7125\n"
          ],
          "name": "stdout"
        }
      ]
    },
    {
      "cell_type": "markdown",
      "metadata": {
        "id": "oL07Cq71hb6o",
        "colab_type": "text"
      },
      "source": [
        "**2.3.2** (height, weight, gender)"
      ]
    },
    {
      "cell_type": "code",
      "metadata": {
        "id": "bN63iYJPhgb5",
        "colab_type": "code",
        "outputId": "9529a297-a8a0-4dc5-d6ea-23f97b2366c3",
        "colab": {
          "base_uri": "https://localhost:8080/",
          "height": 34
        }
      },
      "source": [
        "weights = logisticRegression(f_train, t_train, show_weight_iter=1000000)"
      ],
      "execution_count": 0,
      "outputs": [
        {
          "output_type": "stream",
          "text": [
            "[[-0.0004      0.00573661  0.00772104 -0.00035   ]]\n"
          ],
          "name": "stdout"
        }
      ]
    },
    {
      "cell_type": "code",
      "metadata": {
        "id": "Z5TG6lQHhhZK",
        "colab_type": "code",
        "outputId": "abca0bc9-06d1-4626-dcf6-455d560dbcee",
        "colab": {
          "base_uri": "https://localhost:8080/",
          "height": 50
        }
      },
      "source": [
        "print(\"Average Loss is\", computeAverageLoss(weights, f_test, t_test))\n",
        "print(\"Accuracy is\", accuracy(predict(weights, f_test), t_test))"
      ],
      "execution_count": 0,
      "outputs": [
        {
          "output_type": "stream",
          "text": [
            "Average Loss is 0.5024383767815206\n",
            "Accuracy is 0.7375\n"
          ],
          "name": "stdout"
        }
      ]
    },
    {
      "cell_type": "markdown",
      "metadata": {
        "id": "zPopPgjhg5-S",
        "colab_type": "text"
      },
      "source": [
        "I think the weight helps as a feature, considering incorperating the weight into the training features decreased average loss and increased accuracy."
      ]
    }
  ]
}
