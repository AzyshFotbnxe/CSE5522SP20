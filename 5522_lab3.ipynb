{
  "nbformat": 4,
  "nbformat_minor": 0,
  "metadata": {
    "colab": {
      "name": "5522_lab3.ipynb",
      "provenance": [],
      "collapsed_sections": [],
      "authorship_tag": "ABX9TyPew74aTo5uPV0p0NEYUJnm",
      "include_colab_link": true
    },
    "kernelspec": {
      "name": "python3",
      "display_name": "Python 3"
    }
  },
  "cells": [
    {
      "cell_type": "markdown",
      "metadata": {
        "id": "view-in-github",
        "colab_type": "text"
      },
      "source": [
        "<a href=\"https://colab.research.google.com/github/sanosenx86/si-s-e-fivefivetwotwo/blob/lab3/5522_lab3.ipynb\" target=\"_parent\"><img src=\"https://colab.research.google.com/assets/colab-badge.svg\" alt=\"Open In Colab\"/></a>"
      ]
    },
    {
      "cell_type": "markdown",
      "metadata": {
        "id": "p79w0SGV3eY0",
        "colab_type": "text"
      },
      "source": [
        "#Part 1: \n",
        "###Implement the Viterbi algorithm for HMMs for Eisner's Ice Cream Problem (predict whether each day is hot or cold based on the number of ice creams eaten).  Remember that the Viterbi algorithm computes the most likely sequence for an input."
      ]
    },
    {
      "cell_type": "markdown",
      "metadata": {
        "id": "AbZG9sgZ-hI4",
        "colab_type": "text"
      },
      "source": [
        "**1.1** import packages"
      ]
    },
    {
      "cell_type": "code",
      "metadata": {
        "id": "eShcgGbr5drf",
        "colab_type": "code",
        "colab": {}
      },
      "source": [
        "import io\n",
        "import pandas as pd\n",
        "import numpy as np\n",
        "np.set_printoptions(suppress=True)"
      ],
      "execution_count": 0,
      "outputs": []
    },
    {
      "cell_type": "markdown",
      "metadata": {
        "id": "BMtZBs7bx8XX",
        "colab_type": "text"
      },
      "source": [
        "**Warning: High concentration of abusive object-oriented programming here.**"
      ]
    },
    {
      "cell_type": "code",
      "metadata": {
        "id": "DKKF4ZIKox1w",
        "colab_type": "code",
        "colab": {}
      },
      "source": [
        "class HMM1:\n",
        "  @staticmethod\n",
        "  def get_prob_range(prob):\n",
        "    p=prob.copy()\n",
        "    for i in range(1, p.shape[0]):\n",
        "      p[i]+=p[i-1]\n",
        "    return p\n",
        "\n",
        "  def __init__(self, hidden_states, trans_prob, emit_prob, start_prob, stop_prob = None):\n",
        "    self.states = hidden_states\n",
        "    self.trans_p = trans_prob\n",
        "    self.emit_p = emit_prob\n",
        "    self.start_p = start_prob\n",
        "    self.stop_p = stop_prob\n",
        "    self._log_trans_p = np.log(trans_prob)\n",
        "    self._log_emit_p = np.log(emit_prob)\n",
        "    self._log_start_p = np.log(start_prob)\n",
        "    self._log_stop_p = np.log(stop_prob) if stop_prob is not None else None\n",
        "\n",
        "  ##--------------------For Part 1--------------------##\n",
        "  def __viterbi_compute(self, obs):\n",
        "    obs = obs.ravel()[np.flatnonzero(obs)]-1\n",
        "    max_p = np.zeros((len(obs), len(self.states)))\n",
        "    path = np.zeros((len(self.states), len(obs)))\n",
        "\n",
        "    #initialize\n",
        "    max_p[0] = (self._log_start_p+self._log_emit_p[obs[0]]) \n",
        "    path[:,0] = range(len(self.states))\n",
        "\n",
        "    #recursive\n",
        "    for t in range(1, len(obs)):\n",
        "      newpath=0*path\n",
        "      for y in range(len(self.states)):\n",
        "        newprob = max_p[t-1] + self._log_trans_p[:, y] + self._log_emit_p[obs[t], y]\n",
        "        max_p[t, y] = np.max(newprob)\n",
        "        newpath[y] = path[np.argmax(newprob)]\n",
        "        newpath[y, t] = y\n",
        "      path = newpath\n",
        "    \n",
        "    #stop prob\n",
        "    if self._log_stop_p is not None:\n",
        "      max_p[-1] += self._log_stop_p\n",
        "\n",
        "    best = np.argmax(max_p[-1])\n",
        "    return max_p[-1, best], path[best], [self.states[int(i)] for i in path[best]]\n",
        "  \n",
        "  def viterbi(self, obs):\n",
        "    probs = []\n",
        "    indices = []\n",
        "    hiddens = []\n",
        "    for l in obs:\n",
        "      res = self.__viterbi_compute(l)\n",
        "      probs.append(res[0])\n",
        "      indices.append(res[1])\n",
        "      hiddens.append(res[2])\n",
        "    self.viterbi=indices\n",
        "    return np.exp(probs), indices, hiddens"
      ],
      "execution_count": 0,
      "outputs": []
    },
    {
      "cell_type": "markdown",
      "metadata": {
        "id": "zvJwHwHJ-X6r",
        "colab_type": "text"
      },
      "source": [
        "**1.2** preprocess dataframe"
      ]
    },
    {
      "cell_type": "code",
      "metadata": {
        "id": "GnCpbTaR573B",
        "colab_type": "code",
        "outputId": "3be9e9a5-0137-4c4e-8804-e01efd9e73ba",
        "colab": {
          "base_uri": "https://localhost:8080/",
          "height": 153
        }
      },
      "source": [
        "tp_df = pd.read_csv('https://raw.githubusercontent.com/sanosenx86/5522sp20public/master/lab3data/transitionProbs.csv')\n",
        "print(tp_df.shape)\n",
        "tp_df.head()"
      ],
      "execution_count": 0,
      "outputs": [
        {
          "output_type": "stream",
          "text": [
            "(3, 4)\n"
          ],
          "name": "stdout"
        },
        {
          "output_type": "execute_result",
          "data": {
            "text/html": [
              "<div>\n",
              "<style scoped>\n",
              "    .dataframe tbody tr th:only-of-type {\n",
              "        vertical-align: middle;\n",
              "    }\n",
              "\n",
              "    .dataframe tbody tr th {\n",
              "        vertical-align: top;\n",
              "    }\n",
              "\n",
              "    .dataframe thead th {\n",
              "        text-align: right;\n",
              "    }\n",
              "</style>\n",
              "<table border=\"1\" class=\"dataframe\">\n",
              "  <thead>\n",
              "    <tr style=\"text-align: right;\">\n",
              "      <th></th>\n",
              "      <th>P(x|...)</th>\n",
              "      <th>C</th>\n",
              "      <th>H</th>\n",
              "      <th>START</th>\n",
              "    </tr>\n",
              "  </thead>\n",
              "  <tbody>\n",
              "    <tr>\n",
              "      <th>0</th>\n",
              "      <td>C</td>\n",
              "      <td>0.86</td>\n",
              "      <td>0.07</td>\n",
              "      <td>0.5</td>\n",
              "    </tr>\n",
              "    <tr>\n",
              "      <th>1</th>\n",
              "      <td>H</td>\n",
              "      <td>0.07</td>\n",
              "      <td>0.86</td>\n",
              "      <td>0.5</td>\n",
              "    </tr>\n",
              "    <tr>\n",
              "      <th>2</th>\n",
              "      <td>STOP</td>\n",
              "      <td>0.07</td>\n",
              "      <td>0.07</td>\n",
              "      <td>0.0</td>\n",
              "    </tr>\n",
              "  </tbody>\n",
              "</table>\n",
              "</div>"
            ],
            "text/plain": [
              "  P(x|...)     C     H  START\n",
              "0        C  0.86  0.07    0.5\n",
              "1        H  0.07  0.86    0.5\n",
              "2     STOP  0.07  0.07    0.0"
            ]
          },
          "metadata": {
            "tags": []
          },
          "execution_count": 3
        }
      ]
    },
    {
      "cell_type": "code",
      "metadata": {
        "id": "rG2TNFuP9E5_",
        "colab_type": "code",
        "outputId": "fc1a84ec-e66a-4a4c-f22e-a4ad6da85858",
        "colab": {
          "base_uri": "https://localhost:8080/",
          "height": 84
        }
      },
      "source": [
        "tp=tp_df.values\n",
        "start_prob=tp[:2, 3].astype('float64')\n",
        "stop_prob=tp[2, 1:3].astype('float64')\n",
        "tp=tp[:2, 1:3].astype('float64')\n",
        "\n",
        "display(tp, start_prob, stop_prob)"
      ],
      "execution_count": 0,
      "outputs": [
        {
          "output_type": "display_data",
          "data": {
            "text/plain": [
              "array([[0.86, 0.07],\n",
              "       [0.07, 0.86]])"
            ]
          },
          "metadata": {
            "tags": []
          }
        },
        {
          "output_type": "display_data",
          "data": {
            "text/plain": [
              "array([0.5, 0.5])"
            ]
          },
          "metadata": {
            "tags": []
          }
        },
        {
          "output_type": "display_data",
          "data": {
            "text/plain": [
              "array([0.07, 0.07])"
            ]
          },
          "metadata": {
            "tags": []
          }
        }
      ]
    },
    {
      "cell_type": "code",
      "metadata": {
        "id": "KhHpIJ-S61vR",
        "colab_type": "code",
        "outputId": "b257997d-4eb6-4987-ef66-35b7b6296f73",
        "colab": {
          "base_uri": "https://localhost:8080/",
          "height": 153
        }
      },
      "source": [
        "op_df = pd.read_csv('https://raw.githubusercontent.com/sanosenx86/5522sp20public/master/lab3data/observationProbs.csv')\n",
        "print(op_df.shape)\n",
        "op_df.head()"
      ],
      "execution_count": 0,
      "outputs": [
        {
          "output_type": "stream",
          "text": [
            "(3, 3)\n"
          ],
          "name": "stdout"
        },
        {
          "output_type": "execute_result",
          "data": {
            "text/html": [
              "<div>\n",
              "<style scoped>\n",
              "    .dataframe tbody tr th:only-of-type {\n",
              "        vertical-align: middle;\n",
              "    }\n",
              "\n",
              "    .dataframe tbody tr th {\n",
              "        vertical-align: top;\n",
              "    }\n",
              "\n",
              "    .dataframe thead th {\n",
              "        text-align: right;\n",
              "    }\n",
              "</style>\n",
              "<table border=\"1\" class=\"dataframe\">\n",
              "  <thead>\n",
              "    <tr style=\"text-align: right;\">\n",
              "      <th></th>\n",
              "      <th>P(x|...)</th>\n",
              "      <th>C</th>\n",
              "      <th>H</th>\n",
              "    </tr>\n",
              "  </thead>\n",
              "  <tbody>\n",
              "    <tr>\n",
              "      <th>0</th>\n",
              "      <td>1</td>\n",
              "      <td>0.6407</td>\n",
              "      <td>0.0002</td>\n",
              "    </tr>\n",
              "    <tr>\n",
              "      <th>1</th>\n",
              "      <td>2</td>\n",
              "      <td>0.1481</td>\n",
              "      <td>0.5341</td>\n",
              "    </tr>\n",
              "    <tr>\n",
              "      <th>2</th>\n",
              "      <td>3</td>\n",
              "      <td>0.2122</td>\n",
              "      <td>0.4657</td>\n",
              "    </tr>\n",
              "  </tbody>\n",
              "</table>\n",
              "</div>"
            ],
            "text/plain": [
              "   P(x|...)       C       H\n",
              "0         1  0.6407  0.0002\n",
              "1         2  0.1481  0.5341\n",
              "2         3  0.2122  0.4657"
            ]
          },
          "metadata": {
            "tags": []
          },
          "execution_count": 5
        }
      ]
    },
    {
      "cell_type": "code",
      "metadata": {
        "id": "hRCSs0vs9iMx",
        "colab_type": "code",
        "outputId": "9b6f8ba7-36ea-4bb1-859a-0406fe50c5cf",
        "colab": {
          "base_uri": "https://localhost:8080/",
          "height": 67
        }
      },
      "source": [
        "op=op_df.values\n",
        "op=op[:, 1:].astype('float64')\n",
        "display(op)"
      ],
      "execution_count": 0,
      "outputs": [
        {
          "output_type": "display_data",
          "data": {
            "text/plain": [
              "array([[0.6407, 0.0002],\n",
              "       [0.1481, 0.5341],\n",
              "       [0.2122, 0.4657]])"
            ]
          },
          "metadata": {
            "tags": []
          }
        }
      ]
    },
    {
      "cell_type": "code",
      "metadata": {
        "id": "cOwQ2hiT6-VA",
        "colab_type": "code",
        "outputId": "ed83e077-eda5-4909-c51e-ee95459cc30b",
        "colab": {
          "base_uri": "https://localhost:8080/",
          "height": 212
        }
      },
      "source": [
        "td_df = pd.read_csv('https://raw.githubusercontent.com/sanosenx86/5522sp20public/master/lab3data/testData.csv')\n",
        "print(td_df.shape)\n",
        "td_df.head()"
      ],
      "execution_count": 0,
      "outputs": [
        {
          "output_type": "stream",
          "text": [
            "(10, 6)\n"
          ],
          "name": "stdout"
        },
        {
          "output_type": "execute_result",
          "data": {
            "text/html": [
              "<div>\n",
              "<style scoped>\n",
              "    .dataframe tbody tr th:only-of-type {\n",
              "        vertical-align: middle;\n",
              "    }\n",
              "\n",
              "    .dataframe tbody tr th {\n",
              "        vertical-align: top;\n",
              "    }\n",
              "\n",
              "    .dataframe thead th {\n",
              "        text-align: right;\n",
              "    }\n",
              "</style>\n",
              "<table border=\"1\" class=\"dataframe\">\n",
              "  <thead>\n",
              "    <tr style=\"text-align: right;\">\n",
              "      <th></th>\n",
              "      <th>SeqNumber</th>\n",
              "      <th>Obs1</th>\n",
              "      <th>Obs2</th>\n",
              "      <th>Obs3</th>\n",
              "      <th>Obs4</th>\n",
              "      <th>Obs5</th>\n",
              "    </tr>\n",
              "  </thead>\n",
              "  <tbody>\n",
              "    <tr>\n",
              "      <th>0</th>\n",
              "      <td>1</td>\n",
              "      <td>2</td>\n",
              "      <td>3</td>\n",
              "      <td>3</td>\n",
              "      <td>2</td>\n",
              "      <td>3</td>\n",
              "    </tr>\n",
              "    <tr>\n",
              "      <th>1</th>\n",
              "      <td>2</td>\n",
              "      <td>2</td>\n",
              "      <td>3</td>\n",
              "      <td>2</td>\n",
              "      <td>2</td>\n",
              "      <td>0</td>\n",
              "    </tr>\n",
              "    <tr>\n",
              "      <th>2</th>\n",
              "      <td>3</td>\n",
              "      <td>3</td>\n",
              "      <td>1</td>\n",
              "      <td>3</td>\n",
              "      <td>3</td>\n",
              "      <td>1</td>\n",
              "    </tr>\n",
              "    <tr>\n",
              "      <th>3</th>\n",
              "      <td>4</td>\n",
              "      <td>2</td>\n",
              "      <td>1</td>\n",
              "      <td>1</td>\n",
              "      <td>0</td>\n",
              "      <td>0</td>\n",
              "    </tr>\n",
              "    <tr>\n",
              "      <th>4</th>\n",
              "      <td>5</td>\n",
              "      <td>1</td>\n",
              "      <td>1</td>\n",
              "      <td>1</td>\n",
              "      <td>2</td>\n",
              "      <td>3</td>\n",
              "    </tr>\n",
              "  </tbody>\n",
              "</table>\n",
              "</div>"
            ],
            "text/plain": [
              "   SeqNumber  Obs1  Obs2  Obs3  Obs4  Obs5\n",
              "0          1     2     3     3     2     3\n",
              "1          2     2     3     2     2     0\n",
              "2          3     3     1     3     3     1\n",
              "3          4     2     1     1     0     0\n",
              "4          5     1     1     1     2     3"
            ]
          },
          "metadata": {
            "tags": []
          },
          "execution_count": 7
        }
      ]
    },
    {
      "cell_type": "code",
      "metadata": {
        "id": "aZTscGQU9tnj",
        "colab_type": "code",
        "outputId": "ae156438-9abd-46f7-ef36-11703c39476f",
        "colab": {
          "base_uri": "https://localhost:8080/",
          "height": 185
        }
      },
      "source": [
        "td=td_df.values\n",
        "td=td[:, 1:].astype('int')\n",
        "display(td)"
      ],
      "execution_count": 0,
      "outputs": [
        {
          "output_type": "display_data",
          "data": {
            "text/plain": [
              "array([[2, 3, 3, 2, 3],\n",
              "       [2, 3, 2, 2, 0],\n",
              "       [3, 1, 3, 3, 1],\n",
              "       [2, 1, 1, 0, 0],\n",
              "       [1, 1, 1, 2, 3],\n",
              "       [1, 3, 1, 1, 0],\n",
              "       [3, 2, 3, 0, 0],\n",
              "       [2, 2, 1, 1, 0],\n",
              "       [1, 3, 2, 3, 3],\n",
              "       [1, 1, 1, 0, 0]])"
            ]
          },
          "metadata": {
            "tags": []
          }
        }
      ]
    },
    {
      "cell_type": "markdown",
      "metadata": {
        "id": "uzBKu5qh-psP",
        "colab_type": "text"
      },
      "source": [
        "**1.3** implement viterbi algorithm. Use log probability to avoid underflow."
      ]
    },
    {
      "cell_type": "markdown",
      "metadata": {
        "id": "TCf_zIyU-2fX",
        "colab_type": "text"
      },
      "source": [
        "**1.4** test sequences from testdata."
      ]
    },
    {
      "cell_type": "code",
      "metadata": {
        "id": "OmDowevpzAlB",
        "colab_type": "code",
        "outputId": "226b8040-e138-44f5-8d8d-bac846a65ddd",
        "colab": {
          "base_uri": "https://localhost:8080/",
          "height": 218
        }
      },
      "source": [
        "states=['C','H']\n",
        "model = HMM1(states, tp, op, start_prob, stop_prob)\n",
        "path = model.viterbi(td)\n",
        "display(path[0], path[2])"
      ],
      "execution_count": 0,
      "outputs": [
        {
          "output_type": "display_data",
          "data": {
            "text/plain": [
              "array([0.0005516 , 0.00157956, 0.00007509, 0.00157373, 0.00015824,\n",
              "       0.00124243, 0.00299847, 0.00021219, 0.00005386, 0.00680815])"
            ]
          },
          "metadata": {
            "tags": []
          }
        },
        {
          "output_type": "display_data",
          "data": {
            "text/plain": [
              "[['H', 'H', 'H', 'H', 'H'],\n",
              " ['H', 'H', 'H', 'H'],\n",
              " ['C', 'C', 'C', 'C', 'C'],\n",
              " ['C', 'C', 'C'],\n",
              " ['C', 'C', 'C', 'C', 'C'],\n",
              " ['C', 'C', 'C', 'C'],\n",
              " ['H', 'H', 'H'],\n",
              " ['H', 'H', 'C', 'C'],\n",
              " ['C', 'H', 'H', 'H', 'H'],\n",
              " ['C', 'C', 'C']]"
            ]
          },
          "metadata": {
            "tags": []
          }
        }
      ]
    },
    {
      "cell_type": "markdown",
      "metadata": {
        "id": "I7hXJlvJ60iP",
        "colab_type": "text"
      },
      "source": [
        "#Part 2:  \n",
        "###Using the same network, implement likelihood sampling for approximate inference.  For any test sequence, sample complete sequences of the hidden states n times, where n can range from 10 to 100000 samples. The goal is to approximate the likelihood of all possible sequences."
      ]
    },
    {
      "cell_type": "code",
      "metadata": {
        "id": "uULslTGXb1EK",
        "colab_type": "code",
        "colab": {}
      },
      "source": [
        "class HMM2(HMM1):\n",
        "\n",
        "  ##--------------------For Part 2--------------------##\n",
        "  def __generate_sequence(self, obs):\n",
        "    obs = obs.ravel()[np.flatnonzero(obs)]-1\n",
        "    obsn = len(obs)\n",
        "    ns = len(self.states)\n",
        "    rnd = np.random.rand(obsn)\n",
        "    seq = []\n",
        "    sprange = self.get_prob_range(self.start_p)\n",
        "    tprange = self.get_prob_range(self.trans_p)\n",
        "\n",
        "    #initialize\n",
        "    for i in range(ns):\n",
        "      if rnd[0] < sprange[i]:\n",
        "        seq += [i]\n",
        "        break\n",
        "\n",
        "    #transmit\n",
        "    for n in range(1, obsn):\n",
        "      tp = tprange[:, seq[n-1]] #trans_prob from last state\n",
        "      for i in range(ns):\n",
        "        if rnd[n] < tp[i]:\n",
        "          seq += [i]\n",
        "          break\n",
        "    \n",
        "    sseq = [self.states[i] for i in seq]\n",
        "    weight = self.__compute_weight(seq, obs)\n",
        "    return seq, sseq, weight\n",
        "\n",
        "  def __compute_weight(self, seq, obs):\n",
        "    w = np.sum([self._log_emit_p[obs[i], int(seq[i])] for i in range(len(seq))])\n",
        "    return w\n",
        "\n",
        "  def __sample_one(self, obs, trials):\n",
        "    table=dict()\n",
        "    \n",
        "    for i in range(trials):\n",
        "      seq=self.__generate_sequence(obs)\n",
        "      id=''.join(map(str,seq[0]))\n",
        "      if id not in table: table[id]=0\n",
        "      table[id] += np.exp(seq[2])\n",
        "    \n",
        "    beststr = max(table, key=table.get)\n",
        "    bestseq = list(map(int, beststr))\n",
        "    return bestseq, [self.states[j] for j in bestseq]\n",
        "\n",
        "  def sampling(self, obs, trials=10):\n",
        "    seq = []\n",
        "    sseq = []\n",
        "    for o in obs:\n",
        "      res = self.__sample_one(o, trials)\n",
        "      seq += [res[0]]\n",
        "      sseq += [res[1]]\n",
        "    return seq, sseq\n",
        "\n",
        "  def __convergent_trials(self, obs, gold, min_sample, max_sample):\n",
        "      best_sseq=[]\n",
        "      best_error=np.Inf\n",
        "      best_time=0\n",
        "      for i in range(min_sample, max_sample+1):\n",
        "        if best_error==0: break #Converged now.\n",
        "        s, ss = self.__sample_one(obs, i)\n",
        "        err=np.count_nonzero(s-gold)\n",
        "        if err<=best_error: #don't use max here because it goes too large.\n",
        "          best_sseq = ss\n",
        "          best_error = err\n",
        "          best_time = i\n",
        "      return [best_sseq, best_error, best_time]\n",
        "\n",
        "  def convergent(self, obs, min_sample=10, max_sample=100000):\n",
        "    ctable=[] #sequence, weight, error, convergent time\n",
        "    for o in range(obs.shape[0]):\n",
        "      ctable += [list(self.__convergent_trials(obs[o], self.viterbi[o], min_sample, max_sample))]\n",
        "    return ctable\n",
        "\n",
        "  def eval_seq(self, obs, seq):\n",
        "    all_weight=[]\n",
        "    for o in range(obs.shape[0]):\n",
        "      ob=obs[o]\n",
        "      ob=ob.ravel()[np.flatnonzero(ob)]-1\n",
        "      all_weight+=[self.__compute_weight(eval[o], ob)]\n",
        "    return np.exp(all_weight)"
      ],
      "execution_count": 0,
      "outputs": []
    },
    {
      "cell_type": "markdown",
      "metadata": {
        "id": "tGfQlcrV0zVO",
        "colab_type": "text"
      },
      "source": [
        "In this part, the weight of each sequence is solely by the product of the emit probability because the transition probability is embedded from the sampling process -- the possibility to generate each sequence is described by the transition probability."
      ]
    },
    {
      "cell_type": "code",
      "metadata": {
        "id": "NB-RMagqRkv4",
        "colab_type": "code",
        "outputId": "e5da6d5d-e393-4b04-f055-e90b34144fff",
        "colab": {
          "base_uri": "https://localhost:8080/",
          "height": 185
        }
      },
      "source": [
        "#tp_normalized\n",
        "tpn = tp/tp.sum(0)\n",
        "seq = HMM2(states, tpn, op, start_prob)\n",
        "path = seq.viterbi(td)\n",
        "display(path[2])"
      ],
      "execution_count": 0,
      "outputs": [
        {
          "output_type": "display_data",
          "data": {
            "text/plain": [
              "[['H', 'H', 'H', 'H', 'H'],\n",
              " ['H', 'H', 'H', 'H'],\n",
              " ['C', 'C', 'C', 'C', 'C'],\n",
              " ['C', 'C', 'C'],\n",
              " ['C', 'C', 'C', 'C', 'C'],\n",
              " ['C', 'C', 'C', 'C'],\n",
              " ['H', 'H', 'H'],\n",
              " ['H', 'H', 'C', 'C'],\n",
              " ['C', 'H', 'H', 'H', 'H'],\n",
              " ['C', 'C', 'C']]"
            ]
          },
          "metadata": {
            "tags": []
          }
        }
      ]
    },
    {
      "cell_type": "markdown",
      "metadata": {
        "id": "GQ8-_8WrE2jw",
        "colab_type": "text"
      },
      "source": [
        "**2.1** Judge by the overall weight which the most likely weather sequence would be.  Does the best string match your Viterbi answer?"
      ]
    },
    {
      "cell_type": "code",
      "metadata": {
        "id": "ZtX6ga6gPpQ0",
        "colab_type": "code",
        "outputId": "4b6ae11f-80de-4003-876f-cdf06cdc17e3",
        "colab": {
          "base_uri": "https://localhost:8080/",
          "height": 185
        }
      },
      "source": [
        "display(seq.sampling(td, 100)[1])"
      ],
      "execution_count": 0,
      "outputs": [
        {
          "output_type": "display_data",
          "data": {
            "text/plain": [
              "[['H', 'H', 'H', 'H', 'H'],\n",
              " ['H', 'H', 'H', 'H'],\n",
              " ['C', 'C', 'C', 'C', 'C'],\n",
              " ['C', 'C', 'C'],\n",
              " ['C', 'C', 'C', 'C', 'C'],\n",
              " ['C', 'C', 'C', 'C'],\n",
              " ['H', 'H', 'H'],\n",
              " ['C', 'C', 'C', 'C'],\n",
              " ['C', 'H', 'H', 'H', 'H'],\n",
              " ['C', 'C', 'C']]"
            ]
          },
          "metadata": {
            "tags": []
          }
        }
      ]
    },
    {
      "cell_type": "markdown",
      "metadata": {
        "id": "E9hbnqFvDBL2",
        "colab_type": "text"
      },
      "source": [
        "Yes. If sample number is big enough, it eventually converges to the viterbi answer."
      ]
    },
    {
      "cell_type": "markdown",
      "metadata": {
        "id": "LBiVr1NkE8fX",
        "colab_type": "text"
      },
      "source": [
        "**2.2** Assuming the Viterbi sequence is \"correct\", how long (how many samples) does it take the sampler to converge so that you get the highest match between samples and the Viterbi sequence?"
      ]
    },
    {
      "cell_type": "code",
      "metadata": {
        "id": "v-WCwr8XkQJy",
        "colab_type": "code",
        "outputId": "e3180a46-5f2e-4e8b-8e28-f67d0ec270af",
        "colab": {
          "base_uri": "https://localhost:8080/",
          "height": 185
        }
      },
      "source": [
        "display([(i[0], i[2]) for i in seq.convergent(td)])"
      ],
      "execution_count": 0,
      "outputs": [
        {
          "output_type": "display_data",
          "data": {
            "text/plain": [
              "[(['H', 'H', 'H', 'H', 'H'], 10),\n",
              " (['H', 'H', 'H', 'H'], 10),\n",
              " (['C', 'C', 'C', 'C', 'C'], 10),\n",
              " (['C', 'C', 'C'], 10),\n",
              " (['C', 'C', 'C', 'C', 'C'], 10),\n",
              " (['C', 'C', 'C', 'C'], 10),\n",
              " (['H', 'H', 'H'], 10),\n",
              " (['H', 'H', 'C', 'C'], 11),\n",
              " (['C', 'H', 'H', 'H', 'H'], 15),\n",
              " (['C', 'C', 'C'], 10)]"
            ]
          },
          "metadata": {
            "tags": []
          }
        }
      ]
    },
    {
      "cell_type": "markdown",
      "metadata": {
        "id": "D3HTf-8gEBhr",
        "colab_type": "text"
      },
      "source": [
        "Usually it takes ~10 samples to converge to viterbi solution."
      ]
    },
    {
      "cell_type": "markdown",
      "metadata": {
        "id": "A8KEFYKgxuIj",
        "colab_type": "text"
      },
      "source": [
        "#Part 3:\n",
        "###Implement Forward-Backward algorithm."
      ]
    },
    {
      "cell_type": "code",
      "metadata": {
        "id": "42e0evRZxtBw",
        "colab_type": "code",
        "colab": {}
      },
      "source": [
        "class HMM3(HMM1):\n",
        "  \n",
        "  ##--------------------For Bonus--------------------##\n",
        "  def forward(self, obs):\n",
        "    obs = obs.ravel()[np.flatnonzero(obs)]-1\n",
        "    p = np.zeros((len(obs), len(self.states)))\n",
        "\n",
        "    #initialize\n",
        "    p[0]= np.multiply(self.start_p, self.emit_p[int(obs[0])])\n",
        "\n",
        "    #compute\n",
        "    for t in range(1, len(obs)):\n",
        "      for i in range(len(self.states)):\n",
        "        p[t,i] = np.dot(p[t-1], self.trans_p[i]) * self.emit_p[int(obs[t]), i]\n",
        "    \n",
        "    # if self.stop_p is not None:\n",
        "    #   for i in range(len(self.states)):\n",
        "    #     p = np.append(p, np.zeros((1,len(states))), axis=0)\n",
        "    #     p[-1,i] = np.dot(p[-2].squeeze(), self.stop_p)\n",
        "\n",
        "    return np.sum(p[-1]), p\n",
        "\n",
        "  def backward(self, obs):\n",
        "    obs = obs.ravel()[np.flatnonzero(obs)]-1\n",
        "    p = np.zeros((len(obs), len(self.states)))\n",
        "\n",
        "    #initialize\n",
        "    p[-1,:] = 1\n",
        "\n",
        "    #compute\n",
        "    for t in reversed(range(len(obs)-1)):\n",
        "      for i in range(len(self.states)):\n",
        "        p[t,i]=np.sum(p[t+1]*self.trans_p[i]*self.emit_p[obs[t+1]])\n",
        "\n",
        "    prob = np.sum(self.start_p*p[0]*self.emit_p[int(obs[0])])\n",
        "\n",
        "    return prob, p\n",
        "\n",
        "  def forward_backward(self, obs):\n",
        "    for o in obs:\n",
        "      print(o, self.forward(o)[0], self.backward(o)[0])"
      ],
      "execution_count": 0,
      "outputs": []
    },
    {
      "cell_type": "code",
      "metadata": {
        "id": "Y8Uorr2bTaFL",
        "colab_type": "code",
        "outputId": "25a73e17-f39d-43df-8001-d2f62b91a637",
        "colab": {
          "base_uri": "https://localhost:8080/",
          "height": 185
        }
      },
      "source": [
        "states2 = ['C', 'H']\n",
        "\n",
        "fbmodel = HMM3(states, tpn, op, start_prob)\n",
        "fbmodel.forward_backward(td)"
      ],
      "execution_count": 0,
      "outputs": [
        {
          "output_type": "stream",
          "text": [
            "[2 3 3 2 3] 0.011725192152318572 0.011725192152318572\n",
            "[2 3 2 2 0] 0.030404240035234335 0.030404240035234346\n",
            "[3 1 3 3 1] 0.0017943698358089577 0.0017943698358089582\n",
            "[2 1 1 0 0] 0.03362698651738017 0.03362698651738018\n",
            "[1 1 1 2 3] 0.005581655289316001 0.0055816552893160004\n",
            "[1 3 1 1 0] 0.02238946940670452 0.022389469406704512\n",
            "[3 2 3 0 0] 0.05722914495150521 0.05722914495150521\n",
            "[2 2 1 1 0] 0.008459860910637784 0.008459860910637784\n",
            "[1 3 2 3 3] 0.0021199306558590957 0.0021199306558590957\n",
            "[1 1 1 0 0] 0.11245743037605936 0.11245743037605936\n"
          ],
          "name": "stdout"
        }
      ]
    },
    {
      "cell_type": "code",
      "metadata": {
        "id": "BVovzxft6R0x",
        "colab_type": "code",
        "outputId": "cc76db7a-0fc9-4450-a99d-75c8fdf8ac76",
        "colab": {
          "base_uri": "https://localhost:8080/",
          "height": 185
        }
      },
      "source": [
        "states3 = ['C', 'H', 'W']\n",
        "\n",
        "tp3 = np.array([[0.8, 0.1, 0.1],\n",
        "                [0.1, 0.8, 0.1],\n",
        "                [0.1, 0.1, 0.8]])\n",
        "\n",
        "#tp3 = np.ones((3,3))/3.0\n",
        "\n",
        "op3 = np.array([[0.6, 0.1, 0.2],\n",
        "                [0.3, 0.2, 0.7],\n",
        "                [0.1, 0.7, 0.1]])\n",
        "#op3 = np.ones((3,3))/3.0\n",
        "\n",
        "sp3 = np.array([0.4, 0.4, 0.2])\n",
        "#sp3 = np.ones(3)/3.0\n",
        "\n",
        "fbmodel = HMM3(states3, tp3, op3, sp3)\n",
        "fbmodel.forward_backward(td)"
      ],
      "execution_count": 0,
      "outputs": [
        {
          "output_type": "stream",
          "text": [
            "[2 3 3 2 3] 0.0043244952 0.0043244952\n",
            "[2 3 2 2 0] 0.012142820000000002 0.012142820000000002\n",
            "[3 1 3 3 1] 0.0017939696 0.0017939696000000005\n",
            "[2 1 1 0 0] 0.04362 0.043620000000000006\n",
            "[1 1 1 2 3] 0.004257696000000001 0.004257696\n",
            "[1 3 1 1 0] 0.00745 0.007450000000000002\n",
            "[3 2 3 0 0] 0.035031999999999994 0.035032\n",
            "[2 2 1 1 0] 0.016125 0.016125000000000004\n",
            "[1 3 2 3 3] 0.003141420000000001 0.0031414200000000002\n",
            "[1 1 1 0 0] 0.06492 0.06492\n"
          ],
          "name": "stdout"
        }
      ]
    },
    {
      "cell_type": "markdown",
      "metadata": {
        "id": "wOgzWbNeXkAY",
        "colab_type": "text"
      },
      "source": [
        "Forward and backward algorithms always return the same result if the probability data is correct."
      ]
    },
    {
      "cell_type": "code",
      "metadata": {
        "id": "pBmhfJ7ATS9U",
        "colab_type": "code",
        "outputId": "3210b76d-337c-49f7-b71b-636275739501",
        "colab": {
          "base_uri": "https://localhost:8080/",
          "height": 34
        }
      },
      "source": [
        "a=range(10)\n",
        "print(list(a[:-1]))"
      ],
      "execution_count": 0,
      "outputs": [
        {
          "output_type": "stream",
          "text": [
            "[0, 1, 2, 3, 4, 5, 6, 7, 8]\n"
          ],
          "name": "stdout"
        }
      ]
    }
  ]
}